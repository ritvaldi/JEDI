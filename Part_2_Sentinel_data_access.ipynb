{
 "cells": [
  {
   "cell_type": "markdown",
   "metadata": {},
   "source": [
    "# Accessing our local repository of Sentinel 2 Data\n",
    "\n",
    "The purpose of this notebook is to introduce the sentinelPy module for data access\n",
    "\n",
    "## 1. Importing\n",
    "\n",
    "First we import the module as normal:"
   ]
  },
  {
   "cell_type": "code",
   "execution_count": null,
   "metadata": {},
   "outputs": [],
   "source": [
    "# Have created a symlink to the sentinelpy module directory\n",
    "# need to merge the module into the main branch\n",
    "\n",
    "import sentinelpy.sentinelPy as sp\n",
    "\n",
    "# also import helpful modules\n",
    "import os\n",
    "import matplotlib.pyplot as plt\n",
    "import numpy as np\n",
    "import pickle as p"
   ]
  },
  {
   "cell_type": "markdown",
   "metadata": {},
   "source": [
    "The data are stored in the project directory"
   ]
  },
  {
   "cell_type": "code",
   "execution_count": null,
   "metadata": {
    "collapsed": true
   },
   "outputs": [],
   "source": [
    "# set a temporary data path for my local copy\n",
    "\n",
    "# on the unix system it should be\n",
    "dpath = 'data_2'"
   ]
  },
  {
   "cell_type": "markdown",
   "metadata": {},
   "source": [
    "Lets make a convenience function for making a list of paths to import"
   ]
  },
  {
   "cell_type": "code",
   "execution_count": null,
   "metadata": {
    "collapsed": true
   },
   "outputs": [],
   "source": [
    "def make_file_list(dpath):\n",
    "    \"\"\" Returns a list of .SAFE file paths\"\"\"\n",
    "    contents = os.listdir(dpath)\n",
    "    return [os.path.join(dpath,x) for x in contents if x.endswith('.SAFE')]"
   ]
  },
  {
   "cell_type": "markdown",
   "metadata": {},
   "source": [
    "When importing as a sentinelTwoGranule, the file path and the MGRS grid square is needed to create a sentinelTwoGranule object"
   ]
  },
  {
   "cell_type": "code",
   "execution_count": null,
   "metadata": {},
   "outputs": [],
   "source": [
    "fpaths = make_file_list(dpath)\n",
    "\n",
    "MGRS_square_ID = '38KRF' # identifies 100 Km x 100 Km square\n",
    "\n",
    "def import_SAFE_list(fileList, squareID):\n",
    "    \"\"\" Returns a list of SentinelTwoGranule objects\"\"\"\n",
    "    return [sp.sentinelTwoGranule(x,squareID) for x in fileList]\n",
    "\n",
    "files = import_SAFE_list(fpaths, MGRS_square_ID)\n",
    "\n",
    "print(files[0])"
   ]
  },
  {
   "cell_type": "markdown",
   "metadata": {},
   "source": [
    "## 2. The sentinelTwoGranule object\n",
    "\n",
    "This section details the various attributes of the sentinelTwoGranule object"
   ]
  },
  {
   "cell_type": "code",
   "execution_count": null,
   "metadata": {
    "collapsed": true
   },
   "outputs": [],
   "source": [
    "eg = files[0]"
   ]
  },
  {
   "cell_type": "markdown",
   "metadata": {},
   "source": [
    "### 2.1. Auxillary data"
   ]
  },
  {
   "cell_type": "code",
   "execution_count": null,
   "metadata": {},
   "outputs": [],
   "source": [
    "print('.SAFE root directory: {}\\n\\n\\\n",
    "Granule root directory: {}\\n\\n\\\n",
    "Image directory: {}\\n\\n\\\n",
    "Image capture date: {}\\n\\n\\\n",
    "MGRS grid square: {}'.format(eg.path,\n",
    "                                    eg.granulePath,\n",
    "                                    eg.imagePath,\n",
    "                                    eg.captureDate,\n",
    "                                    eg.mgrsGridSquare))"
   ]
  },
  {
   "cell_type": "markdown",
   "metadata": {},
   "source": [
    "### 2.2. Imagery Layers\n",
    "\n",
    "All imagery data are stored using the msiFile class, a subclass of the base sentinelTwoImage class, used for handing any gridded pixel data.\n",
    "\n",
    "Each sentinel granule has a dictionary that contains multiple msiFile objects. Each instance allows access to a band, indexed by its name. For instance, if we want to access the blue imagery band in the example sentinel 2 granule we specified above as 'eg', we use"
   ]
  },
  {
   "cell_type": "code",
   "execution_count": null,
   "metadata": {
    "collapsed": true
   },
   "outputs": [],
   "source": [
    "blue_band = eg.msiBands['B02']"
   ]
  },
  {
   "cell_type": "markdown",
   "metadata": {},
   "source": [
    "Each msiFile object also has a number of text attributes:"
   ]
  },
  {
   "cell_type": "code",
   "execution_count": null,
   "metadata": {},
   "outputs": [],
   "source": [
    "print('Band Name: {}\\n\\n\\\n",
    "File path: {}\\n\\n\\\n",
    "Process Level: {}\\n\\n\\\n",
    "Pixel ground size (length and width in metres): {} '.format(blue_band.bandName,\n",
    "                            blue_band.filePath,\n",
    "                            blue_band.processLevel,\n",
    "                            blue_band.pixelSize))"
   ]
  },
  {
   "cell_type": "markdown",
   "metadata": {},
   "source": [
    "So we can see that the blue band in this sentinel granule has been processed to the level 2A processing stage and that the data is stored in a .jp2 (JPEG 2000 format file). We can also see that this image is at 10m x 10m resolution.\n",
    "\n",
    "We can access the pixel values of the layer through the data attribute, a NumPy-like 2D array. Note that the pixel array is not read into memory until needed (i.e. when an operation is performed on the array)."
   ]
  },
  {
   "cell_type": "code",
   "execution_count": null,
   "metadata": {},
   "outputs": [],
   "source": [
    "# make a spatial subset of blue\n",
    "\n",
    "bb = blue_band.data[5000:6000,5000:6000]\n",
    "\n",
    "# make a plot\n",
    "plt.figure(figsize = (10,10))\n",
    "plt.imshow(bb,'nipy_spectral')\n",
    "plt.show()"
   ]
  },
  {
   "cell_type": "markdown",
   "metadata": {},
   "source": [
    "You'll notice some white blobs - these are clouds and so are much more reflective than the ground. As such, the ground appears very dark (on our chosen colour scale) and so we can temporarily overcome this by plotting the log instead:"
   ]
  },
  {
   "cell_type": "code",
   "execution_count": null,
   "metadata": {},
   "outputs": [],
   "source": [
    "# make a plot\n",
    "plt.figure(figsize = (10,10))\n",
    "plt.imshow(np.log(bb),'nipy_spectral')\n",
    "plt.show()"
   ]
  },
  {
   "cell_type": "markdown",
   "metadata": {},
   "source": [
    "### 2.3. Scene Classification Layer data\n",
    "\n",
    "There is also a second kind of gridded data in the sentinel files. A pre-generated Scene Classification Layer (SCL) is also produced during ESA's processing to level 1C. This is represented as an sclFile object, also a subclass of the sentinelTwoImage class.\n",
    "\n",
    "This can be accessed by:"
   ]
  },
  {
   "cell_type": "code",
   "execution_count": null,
   "metadata": {},
   "outputs": [],
   "source": [
    "print('Band Name: {}\\n\\n\\\n",
    "File path: {}\\n\\n\\\n",
    "Process Level: {}\\n\\n\\\n",
    "Pixel ground size (length and width in metres): {} '.format(eg.SCL.bandName,\n",
    "                            eg.SCL.filePath,\n",
    "                            eg.SCL.processLevel,\n",
    "                            eg.SCL.pixelSize))"
   ]
  },
  {
   "cell_type": "markdown",
   "metadata": {},
   "source": [
    "We can see that this layer only comes in 20m x 20m pixels"
   ]
  },
  {
   "cell_type": "code",
   "execution_count": null,
   "metadata": {},
   "outputs": [],
   "source": [
    "# make a spatial subset of scl\n",
    "\n",
    "scl = eg.SCL.data[2500:3000,2500:3000]\n",
    "\n",
    "# make a plot\n",
    "plt.figure(figsize = (10,10))\n",
    "plt.imshow(scl,'nipy_spectral')\n",
    "plt.show()"
   ]
  },
  {
   "cell_type": "markdown",
   "metadata": {},
   "source": [
    "In this plot, each colour represents a different classification"
   ]
  },
  {
   "cell_type": "code",
   "execution_count": null,
   "metadata": {},
   "outputs": [],
   "source": [
    "eg.SCL.layerNames"
   ]
  },
  {
   "cell_type": "markdown",
   "metadata": {},
   "source": [
    "## 3. Some very useful stuff...\n",
    "\n",
    "### 3.1. Masking out clouds\n",
    "Using the SCL, we can make a boolean array of a single classification type. Lets test this out by setting all pixels equivalent to 4 (the vegetation code) to true, and all others to False"
   ]
  },
  {
   "cell_type": "code",
   "execution_count": null,
   "metadata": {},
   "outputs": [],
   "source": [
    "vegetation = scl==4\n",
    "\n",
    "# make a plot\n",
    "plt.figure(figsize = (10,10))\n",
    "plt.imshow(vegetation,'binary')\n",
    "plt.show()"
   ]
  },
  {
   "cell_type": "markdown",
   "metadata": {},
   "source": [
    "We can then use this to make a masked array of an imagery band. For example, lets mask out all values which are not vegetation in our blue band. There's two things that we need to consider:\n",
    "\n",
    "- Resampling: Our blue band is imaged at 10m x 10m pixels, however our SCL is at 20m x 20m. This is fairly easy to resolve because we can simply stride the blue band array (take every other value in both dimensions).\n",
    "\n",
    "- in masked array syntax, a true value in a mask means that the value is masked out. We can simply subtract 1 to invert the logic of the vegetation array"
   ]
  },
  {
   "cell_type": "code",
   "execution_count": null,
   "metadata": {},
   "outputs": [],
   "source": [
    "bb_masked = np.ma.array(bb[::2,::2],mask=vegetation-1)\n",
    "\n",
    "# make a plot\n",
    "plt.figure(figsize = (10,10))\n",
    "plt.imshow(np.log(bb_masked),'nipy_spectral')\n",
    "plt.show()"
   ]
  },
  {
   "cell_type": "markdown",
   "metadata": {},
   "source": [
    "### 3.2. Making an RGB image"
   ]
  },
  {
   "cell_type": "code",
   "execution_count": null,
   "metadata": {},
   "outputs": [],
   "source": [
    "# Stack up the RGB bands and reshape into the expected shape for an RGB image\n",
    "stack = np.stack([eg.msiBands['B04'].data[5000:6000,5000:6000],\n",
    "                  eg.msiBands['B03'].data[5000:6000,5000:6000],\n",
    "                  eg.msiBands['B02'].data[5000:6000,5000:6000]]).transpose(1,2,0)\n",
    "\n",
    "# load some pre calculated histogram values\n",
    "cdf, bins = p.load(open('sentinelpy/imProfile.p', 'rb'))\n",
    "\n",
    "# apply a histogram equalisation\n",
    "rgb,_,_ = sp.image_histogram_equalization(stack, cdf=cdf, bins=bins)\n",
    "rgb = rgb.astype('uint8')\n",
    "\n",
    "# make a plot\n",
    "plt.figure(figsize = (10,10))\n",
    "plt.imshow(rgb)\n",
    "plt.show()"
   ]
  },
  {
   "cell_type": "markdown",
   "metadata": {},
   "source": [
    "### Closing remarks\n",
    "There is other useful functionality in the package, however this is not discussed here but can be found in 'sentinelPy/UserGuide.ipynb'"
   ]
  }
 ],
 "metadata": {
  "kernelspec": {
   "display_name": "jedi-kernel_working",
   "language": "python",
   "name": "jedi"
  },
  "language_info": {
   "codemirror_mode": {
    "name": "ipython",
    "version": 2
   },
   "file_extension": ".py",
   "mimetype": "text/x-python",
   "name": "python",
   "nbconvert_exporter": "python",
   "pygments_lexer": "ipython2",
   "version": "2.7.11+"
  }
 },
 "nbformat": 4,
 "nbformat_minor": 2
}
